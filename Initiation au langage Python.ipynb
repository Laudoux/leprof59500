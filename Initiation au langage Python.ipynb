{
  "metadata": {
    "kernelspec": {
      "name": "python",
      "display_name": "Python (Pyodide)",
      "language": "python"
    },
    "language_info": {
      "codemirror_mode": {
        "name": "python",
        "version": 3
      },
      "file_extension": ".py",
      "mimetype": "text/x-python",
      "name": "python",
      "nbconvert_exporter": "python",
      "pygments_lexer": "ipython3",
      "version": "3.8"
    }
  },
  "nbformat_minor": 4,
  "nbformat": 4,
  "cells": [
    {
      "cell_type": "markdown",
      "source": "**<center>[www.laudoux.eu](https://www.laudoux.eu/)</center>**\n\n# <center>**<ins>Cours de M LAUDOUX</ins>**</center>\n# Initiation au langage Python\n\nLes cours suivants  sont réalisés sur des **Notebooks Jupyter** 📓, c'est-à-dire que vous allez avoir du **cours** et des **consignes** traditionnels mais aussi des **lignes de codes** `à executer et/ou à modifier`.\n> ⚠️Les constatations ou les réponses aux questions seront à **écrire dans votre cahier**.⚠️\n\n## Introduction\n\nLe langage **python** est un langage de **script** qui est utilisé aussi bien dans des entreprises que dans le milieu scolaire. Vous allez ici apprendre **quelques notions** et pouvoir comparer par la suite avec une programation sous **scratch**.\n\nDans un premier temps, vous pouvez visionnez les videos suivantes afin d'obtenir quelques notions de base.\n\n**Dans un premier temps**, vous pouvez visionnez les videos suivantes afin `d'obtenir quelques notions de base`:\n\n## Les variables\n### Définition\n\n> Les variables ne sont **pas** des données, ce sont des **<ins>conteneurs dans lequel on stocke des données</ins>**.\n> \n> Dans la mémoire de votre ordinateur, on définit un endroit, voyez çà un peu comme une case, où l’on va déposer une donnée quelle qu’elle soit.\n> \n> On accède aux données des variables par un **<ins>nom ou une lettre</ins>** attribué à cette variable.\n> \n> <i>Par exemple vous avez besoin de stocker des renseignements sur une personne et bien tout simplement vous allez créer plusieurs variables dont la variable **NOM** dans laquelle vous allez mettre le nom de la personne, **AGE** pour mettre l’âge.</i>  \n\n### Les types de variables \n\nEn langage Python, il existe différents types de variables nous allons en voir quelques-unes ensemble. \n\n<ins>Les variables numériques</ins> :  \n- Les nombres entiers de type **int** (« integer » en anglais)\n- Les nombres réels (flottants) de type **float**  \n\n<ins>D’autres types de variables</ins> :  \n- les chaines de caractères de type **str** (« string », chaîne en anglais)\n- les booléens de type **bool** (en référence au mathématicien anglais Georges Boole 1818-1864).\n\n> La commande type() permet de connaitre le type d’une variable.\n> Ci-dessous, exécutez les commandes python et notez dans votre cahier les résultats obtenus et ce que cela signifie.\n\n",
      "metadata": {}
    },
    {
      "cell_type": "markdown",
      "source": "**Script n°1**",
      "metadata": {}
    },
    {
      "cell_type": "code",
      "source": "n=2\ntype(n)",
      "metadata": {
        "trusted": true
      },
      "outputs": [
        {
          "execution_count": 2,
          "output_type": "execute_result",
          "data": {
            "text/plain": "int"
          },
          "metadata": {}
        }
      ],
      "execution_count": 2
    },
    {
      "cell_type": "code",
      "source": "",
      "metadata": {
        "trusted": true
      },
      "outputs": [],
      "execution_count": null
    },
    {
      "cell_type": "code",
      "source": "",
      "metadata": {
        "trusted": true
      },
      "outputs": [],
      "execution_count": null
    }
  ]
}